{
 "cells": [
  {
   "cell_type": "code",
   "execution_count": 49,
   "metadata": {},
   "outputs": [],
   "source": [
    "import csv\n",
    "import sys\n",
    "import random\n",
    "\n",
    "N = 1000\n",
    "\n",
    "teams = []"
   ]
  },
  {
   "cell_type": "code",
   "execution_count": 71,
   "metadata": {},
   "outputs": [
    {
     "name": "stdout",
     "output_type": "stream",
     "text": [
      "[{'team': 'Uruguay', 'rating': 976}, {'team': 'Portugal', 'rating': 1306}, {'team': 'France', 'rating': 1166}, {'team': 'Argentina', 'rating': 1254}, {'team': 'Brazil', 'rating': 1384}, {'team': 'Mexico', 'rating': 1008}, {'team': 'Belgium', 'rating': 1346}, {'team': 'Japan', 'rating': 528}, {'team': 'Spain', 'rating': 1162}, {'team': 'Russia', 'rating': 493}, {'team': 'Croatia', 'rating': 975}, {'team': 'Denmark', 'rating': 1054}, {'team': 'Sweden', 'rating': 889}, {'team': 'Switzerland', 'rating': 1179}, {'team': 'Colombia', 'rating': 989}, {'team': 'England', 'rating': 1040}, {'team': 'Uruguay', 'rating': 976}, {'team': 'Portugal', 'rating': 1306}, {'team': 'France', 'rating': 1166}, {'team': 'Argentina', 'rating': 1254}, {'team': 'Brazil', 'rating': 1384}, {'team': 'Mexico', 'rating': 1008}, {'team': 'Belgium', 'rating': 1346}, {'team': 'Japan', 'rating': 528}, {'team': 'Spain', 'rating': 1162}, {'team': 'Russia', 'rating': 493}, {'team': 'Croatia', 'rating': 975}, {'team': 'Denmark', 'rating': 1054}, {'team': 'Sweden', 'rating': 889}, {'team': 'Switzerland', 'rating': 1179}, {'team': 'Colombia', 'rating': 989}, {'team': 'England', 'rating': 1040}]\n"
     ]
    }
   ],
   "source": [
    "filename = \"/Users/patrickburke/repos/harvardCs50/week6/lab6-world-cup/2018m.csv\"\n",
    "with open(filename, \"r\") as file:\n",
    "    reader = csv.DictReader(file)\n",
    "    for row in reader:\n",
    "        row['rating'] = int(row['rating'])\n",
    "        teams.append(row)\n",
    "\n",
    "print(teams)"
   ]
  },
  {
   "cell_type": "code",
   "execution_count": 79,
   "metadata": {},
   "outputs": [
    {
     "ename": "TypeError",
     "evalue": "list indices must be integers or slices, not str",
     "output_type": "error",
     "traceback": [
      "\u001b[0;31m---------------------------------------------------------------------------\u001b[0m",
      "\u001b[0;31mTypeError\u001b[0m                                 Traceback (most recent call last)",
      "\u001b[1;32m/Users/patrickburke/repos/harvardCs50/week6/lab6-world-cup/tournament.ipynb Cell 3\u001b[0m in \u001b[0;36m<cell line: 1>\u001b[0;34m()\u001b[0m\n\u001b[0;32m----> <a href='vscode-notebook-cell:/Users/patrickburke/repos/harvardCs50/week6/lab6-world-cup/tournament.ipynb#ch0000011untitled?line=0'>1</a>\u001b[0m teams[\u001b[39m'\u001b[39;49m\u001b[39mteam\u001b[39;49m\u001b[39m'\u001b[39;49m]\n",
      "\u001b[0;31mTypeError\u001b[0m: list indices must be integers or slices, not str"
     ]
    }
   ],
   "source": [
    "teams['team']"
   ]
  },
  {
   "cell_type": "code",
   "execution_count": 72,
   "metadata": {},
   "outputs": [],
   "source": [
    "def simulate_game(team1, team2):\n",
    "    \"\"\"Simulate a game. Return True if team1 wins, False otherwise.\"\"\"\n",
    "    rating1 = team1[\"rating\"]\n",
    "    rating2 = team2[\"rating\"]\n",
    "    probability = 1 / (1 + 10 ** ((rating2 - rating1) / 600))\n",
    "    return random.random() < probability"
   ]
  },
  {
   "cell_type": "code",
   "execution_count": 73,
   "metadata": {},
   "outputs": [],
   "source": [
    "\"\"\"Simulate a round. Return a list of winning teams.\"\"\"\n",
    "def simulate_round(teams):\n",
    "    winners = []\n",
    "    # Simulate games for all pairs of teams\n",
    "    for i in range(0, len(teams), 2):\n",
    "        if simulate_game(teams[i], teams[i + 1]):\n",
    "            winners.append(teams[i])\n",
    "        else:\n",
    "            winners.append(teams[i + 1])\n",
    "    return winners"
   ]
  },
  {
   "cell_type": "code",
   "execution_count": 60,
   "metadata": {},
   "outputs": [
    {
     "data": {
      "text/plain": [
       "[{'team': 'Portugal', 'rating': 1306},\n",
       " {'team': 'Argentina', 'rating': 1254},\n",
       " {'team': 'Mexico', 'rating': 1008},\n",
       " {'team': 'Belgium', 'rating': 1346},\n",
       " {'team': 'Russia', 'rating': 493},\n",
       " {'team': 'Croatia', 'rating': 975},\n",
       " {'team': 'Switzerland', 'rating': 1179},\n",
       " {'team': 'England', 'rating': 1040}]"
      ]
     },
     "execution_count": 60,
     "metadata": {},
     "output_type": "execute_result"
    }
   ],
   "source": [
    "def simulate_round(teams):\n",
    "    \"\"\"Simulate a round. Return a list of winning teams.\"\"\"\n",
    "    winners = []\n",
    "\n",
    "    # Simulate games for all pairs of teams\n",
    "    for i in range(0, len(teams), 2):\n",
    "        if simulate_game(teams[i], teams[i + 1]):\n",
    "            winners.append(teams[i])\n",
    "        else:\n",
    "            winners.append(teams[i + 1])\n",
    "\n",
    "    return winners\n",
    "\n",
    "simulate_round(teams)"
   ]
  },
  {
   "cell_type": "code",
   "execution_count": 70,
   "metadata": {},
   "outputs": [
    {
     "data": {
      "text/plain": [
       "'Denmark'"
      ]
     },
     "execution_count": 70,
     "metadata": {},
     "output_type": "execute_result"
    }
   ],
   "source": [
    "def simulate_tournament(teams):\n",
    "    \"\"\"Simulate a tournament. Return name of winning team.\"\"\"\n",
    "    round_res = simulate_round(teams)\n",
    "    while len(round_res) > 1:\n",
    "        round_res = simulate_round(round_res)\n",
    "    return round_res[0]['team']\n",
    "    \n",
    "simulate_tournament(teams)"
   ]
  },
  {
   "cell_type": "code",
   "execution_count": 80,
   "metadata": {},
   "outputs": [
    {
     "name": "stdout",
     "output_type": "stream",
     "text": [
      "{'Belgium': 244, 'Brazil': 254, 'France': 34, 'Spain': 100, 'Switzerland': 85, 'Portugal': 152, 'Argentina': 79, 'Denmark': 18, 'England': 14, 'Croatia': 7, 'Sweden': 1, 'Colombia': 8, 'Mexico': 3, 'Uruguay': 1}\n"
     ]
    }
   ],
   "source": [
    "counts = {}\n",
    "\n",
    "\n",
    "print(counts)\n",
    "\n",
    "# Print each team's chances of winning, according to simulation\n",
    "# for team in sorted(counts, key=lambda team: counts[team], reverse=True):\n",
    "#     print(f\"{team}: {counts[team] * 100 / N:.1f}% chance of winning\")"
   ]
  },
  {
   "cell_type": "code",
   "execution_count": null,
   "metadata": {},
   "outputs": [],
   "source": []
  }
 ],
 "metadata": {
  "kernelspec": {
   "display_name": "Python 3.9.12 ('base')",
   "language": "python",
   "name": "python3"
  },
  "language_info": {
   "codemirror_mode": {
    "name": "ipython",
    "version": 3
   },
   "file_extension": ".py",
   "mimetype": "text/x-python",
   "name": "python",
   "nbconvert_exporter": "python",
   "pygments_lexer": "ipython3",
   "version": "3.9.12"
  },
  "orig_nbformat": 4,
  "vscode": {
   "interpreter": {
    "hash": "40203b3ec892d21f304b904bd7441b754322a8b95cad2515f623282baa87ac4b"
   }
  }
 },
 "nbformat": 4,
 "nbformat_minor": 2
}
